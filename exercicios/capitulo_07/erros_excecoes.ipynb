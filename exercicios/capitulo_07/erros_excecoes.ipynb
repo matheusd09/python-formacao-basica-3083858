{
 "cells": [
  {
   "cell_type": "code",
   "execution_count": 13,
   "metadata": {},
   "outputs": [
    {
     "data": {
      "text/plain": [
       "0.3322446673196646"
      ]
     },
     "execution_count": 13,
     "metadata": {},
     "output_type": "execute_result"
    }
   ],
   "source": [
    "from random import random, randrange\n",
    "\n",
    "#Erro de Syntaxe, faltou o operador de atribuição\n",
    "##SyntaxError:\n",
    "###x random()\n",
    "\n",
    "x = random()\n",
    "x\n",
    "\n",
    "#Excessões ocorrem quando há erro na execução do código, mesmo que a sintaxe esteja correta.\n",
    "##NameError:\n",
    "###x = randm()\n",
    "\n",
    "#Excessão, pois a função precisa de 1 argumento ao menos\n",
    "##TypeError:\n",
    "###y = randrange()"
   ]
  },
  {
   "attachments": {},
   "cell_type": "markdown",
   "metadata": {},
   "source": [
    "- Crie tratamento para as exceções: ZeroDivisionError e TypeError usando a sintaxe try...except...finally\n"
   ]
  },
  {
   "cell_type": "code",
   "execution_count": 16,
   "metadata": {},
   "outputs": [],
   "source": [
    "#try:               ## Onde é inserido o código a ser executado\n",
    "#except:            ## Caso haja alguma excessão, este bloco informará como deve ser tratada\n",
    "#except Exception:  ## Utilizado para definir tratamento genérico para as qualquer erro \n",
    "#finally:           ## Opcional\n",
    "#    pass"
   ]
  },
  {
   "cell_type": "code",
   "execution_count": 19,
   "metadata": {},
   "outputs": [
    {
     "name": "stdout",
     "output_type": "stream",
     "text": [
      "Mensagem automática de erro genérico.\n"
     ]
    }
   ],
   "source": [
    "from random import random, randrange\n",
    "\n",
    "try:\n",
    "    x = random() / 0\n",
    "    print(x)\n",
    "\n",
    "except Exception:\n",
    "    print('Mensagem automática de erro genérico.')\n",
    "\n",
    "finally:\n",
    "    pass"
   ]
  },
  {
   "cell_type": "code",
   "execution_count": 28,
   "metadata": {},
   "outputs": [
    {
     "name": "stdout",
     "output_type": "stream",
     "text": [
      "Nenhum número é divisível por zero.\n",
      "Vamos dividir o número desejado por 9\n",
      "Aqui está o resultado: 0.048974570421688304\n",
      "Fim\n"
     ]
    }
   ],
   "source": [
    "from random import random, randrange\n",
    "\n",
    "try:\n",
    "    x = random() / 0\n",
    "    print(x)\n",
    "\n",
    "except ZeroDivisionError:\n",
    "    print('Nenhum número é divisível por zero.')\n",
    "    y = randrange(10)\n",
    "    print(f'Vamos dividir o número desejado por {y}')\n",
    "    x = random() / y\n",
    "    print(f'Aqui está o resultado: {x}')\n",
    "\n",
    "except TypeError:\n",
    "    #ex: x = random() / 'a'\n",
    "    print('Existe um erro de tipo. Talvez você esteja tentando aplicar um método não suportado por tipos de dados numéricos.')\n",
    "\n",
    "except Exception:\n",
    "    print('Mensagem automática de erro genérico.')\n",
    "\n",
    "finally:\n",
    "    print('Fim')"
   ]
  },
  {
   "cell_type": "code",
   "execution_count": null,
   "metadata": {},
   "outputs": [],
   "source": []
  }
 ],
 "metadata": {
  "kernelspec": {
   "display_name": "Python 3",
   "language": "python",
   "name": "python3"
  },
  "language_info": {
   "codemirror_mode": {
    "name": "ipython",
    "version": 3
   },
   "file_extension": ".py",
   "mimetype": "text/x-python",
   "name": "python",
   "nbconvert_exporter": "python",
   "pygments_lexer": "ipython3",
   "version": "3.11.2"
  },
  "orig_nbformat": 4,
  "vscode": {
   "interpreter": {
    "hash": "916dbcbb3f70747c44a77c7bcd40155683ae19c65e1c03b4aa3499c5328201f1"
   }
  }
 },
 "nbformat": 4,
 "nbformat_minor": 2
}
