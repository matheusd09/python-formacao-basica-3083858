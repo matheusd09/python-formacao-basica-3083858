{
 "cells": [
  {
   "cell_type": "markdown",
   "metadata": {},
   "source": [
    "- Crie uma classe com 3 atributos"
   ]
  },
  {
   "cell_type": "code",
   "execution_count": 83,
   "metadata": {},
   "outputs": [],
   "source": [
    "class Gato:\n",
    "    def __init__(self):\n",
    "        self.patas = 4\n",
    "        self.cor = 'preta'\n",
    "        self.nome = 'Frejat'"
   ]
  },
  {
   "cell_type": "markdown",
   "metadata": {},
   "source": [
    "- Defina um método para a classe"
   ]
  },
  {
   "cell_type": "code",
   "execution_count": 84,
   "metadata": {},
   "outputs": [],
   "source": [
    "class Gato:\n",
    "    def __init__(self):\n",
    "        self.patas = 4\n",
    "        self.cor = 'preta'\n",
    "        self.nome = 'Tony'\n",
    "\n",
    "\n",
    "    def som(self):\n",
    "        print(self.nome + ' é um gato que mia.')"
   ]
  },
  {
   "cell_type": "markdown",
   "metadata": {},
   "source": [
    "- Instancie a classe"
   ]
  },
  {
   "cell_type": "code",
   "execution_count": 85,
   "metadata": {},
   "outputs": [],
   "source": [
    "meu_gato = Gato()"
   ]
  },
  {
   "cell_type": "code",
   "execution_count": 86,
   "metadata": {},
   "outputs": [],
   "source": [
    "meu_gato_dois = Gato()"
   ]
  },
  {
   "cell_type": "markdown",
   "metadata": {},
   "source": [
    "- Execute o método"
   ]
  },
  {
   "cell_type": "code",
   "execution_count": 87,
   "metadata": {},
   "outputs": [
    {
     "name": "stdout",
     "output_type": "stream",
     "text": [
      "Tony é um gato que mia.\n"
     ]
    }
   ],
   "source": [
    "meu_gato.som()"
   ]
  },
  {
   "cell_type": "code",
   "execution_count": 88,
   "metadata": {},
   "outputs": [
    {
     "name": "stdout",
     "output_type": "stream",
     "text": [
      "Tony é um gato que mia.\n"
     ]
    }
   ],
   "source": [
    "meu_gato_dois.som()"
   ]
  },
  {
   "cell_type": "markdown",
   "metadata": {},
   "source": [
    "- Alteração na função de inicialização"
   ]
  },
  {
   "cell_type": "code",
   "execution_count": 89,
   "metadata": {},
   "outputs": [],
   "source": [
    "class Gato:\n",
    "    def __init__(self, nome = 'Tony'):\n",
    "        self.patas = 4\n",
    "        self.cor = 'preta'\n",
    "        self.nome = nome\n",
    "\n",
    "\n",
    "    def som(self):\n",
    "        print(self.nome + ' é um gato que mia.')"
   ]
  },
  {
   "cell_type": "code",
   "execution_count": 90,
   "metadata": {},
   "outputs": [],
   "source": [
    "meu_gato = Gato()\n",
    "meu_gato_dois = Gato('Frejat')\n",
    "gato_shay = Gato('Maria')\n",
    "gato_barbara = Gato('Fifi')"
   ]
  },
  {
   "cell_type": "code",
   "execution_count": 92,
   "metadata": {},
   "outputs": [
    {
     "name": "stdout",
     "output_type": "stream",
     "text": [
      "Tony é um gato que mia.\n",
      "Frejat é um gato que mia.\n",
      "Maria é um gato que mia.\n",
      "Fifi é um gato que mia.\n"
     ]
    }
   ],
   "source": [
    "meu_gato.som()\n",
    "meu_gato_dois.som()\n",
    "gato_shay.som()\n",
    "gato_barbara.som()"
   ]
  }
 ],
 "metadata": {
  "kernelspec": {
   "display_name": "Python 3.11.0 64-bit",
   "language": "python",
   "name": "python3"
  },
  "language_info": {
   "codemirror_mode": {
    "name": "ipython",
    "version": 3
   },
   "file_extension": ".py",
   "mimetype": "text/x-python",
   "name": "python",
   "nbconvert_exporter": "python",
   "pygments_lexer": "ipython3",
   "version": "3.11.2"
  },
  "orig_nbformat": 4,
  "vscode": {
   "interpreter": {
    "hash": "1a1af0ee75eeea9e2e1ee996c87e7a2b11a0bebd85af04bb136d915cefc0abce"
   }
  }
 },
 "nbformat": 4,
 "nbformat_minor": 2
}
