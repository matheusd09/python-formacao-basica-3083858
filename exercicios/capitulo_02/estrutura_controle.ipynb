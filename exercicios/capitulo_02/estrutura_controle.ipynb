{
 "cells": [
  {
   "cell_type": "markdown",
   "metadata": {},
   "source": [
    "if condição:\n",
    "    Faça isso\n",
    "else:\n",
    "    Faça essa outra coisa"
   ]
  },
  {
   "cell_type": "code",
   "execution_count": 3,
   "metadata": {},
   "outputs": [],
   "source": [
    "a = 'internet'\n",
    "lista = ['internet', 'rede', 'wifi', 'cabeada']    "
   ]
  },
  {
   "cell_type": "code",
   "execution_count": 4,
   "metadata": {},
   "outputs": [
    {
     "name": "stdout",
     "output_type": "stream",
     "text": [
      "tem internet\n"
     ]
    }
   ],
   "source": [
    "if a in lista:\n",
    "    print('tem internet')\n",
    "else:\n",
    "    print('tem internet')"
   ]
  },
  {
   "cell_type": "code",
   "execution_count": 6,
   "metadata": {},
   "outputs": [
    {
     "name": "stdout",
     "output_type": "stream",
     "text": [
      "internet\n",
      "rede\n",
      "wifi\n",
      "cabeada\n"
     ]
    }
   ],
   "source": [
    "for palavra in lista:\n",
    "    print(palavra)"
   ]
  },
  {
   "cell_type": "code",
   "execution_count": 7,
   "metadata": {},
   "outputs": [],
   "source": [
    "b = 2"
   ]
  },
  {
   "cell_type": "code",
   "execution_count": 8,
   "metadata": {},
   "outputs": [
    {
     "name": "stdout",
     "output_type": "stream",
     "text": [
      "2 o numero é menor que 10\n",
      "3 o numero é menor que 10\n",
      "4 o numero é menor que 10\n",
      "5 o numero é menor que 10\n",
      "6 o numero é menor que 10\n",
      "7 o numero é menor que 10\n",
      "8 o numero é menor que 10\n",
      "9 o numero é menor que 10\n"
     ]
    }
   ],
   "source": [
    "while b < 10:\n",
    "    print(b, 'o numero é menor que 10')\n",
    "    b+=1"
   ]
  },
  {
   "cell_type": "code",
   "execution_count": null,
   "metadata": {},
   "outputs": [],
   "source": []
  }
 ],
 "metadata": {
  "kernelspec": {
   "display_name": ".venv",
   "language": "python",
   "name": "python3"
  },
  "language_info": {
   "codemirror_mode": {
    "name": "ipython",
    "version": 3
   },
   "file_extension": ".py",
   "mimetype": "text/x-python",
   "name": "python",
   "nbconvert_exporter": "python",
   "pygments_lexer": "ipython3",
   "version": "3.11.2"
  }
 },
 "nbformat": 4,
 "nbformat_minor": 2
}
