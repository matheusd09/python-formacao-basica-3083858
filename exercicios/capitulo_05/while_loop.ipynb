{
 "cells": [
  {
   "attachments": {},
   "cell_type": "markdown",
   "metadata": {},
   "source": [
    "- Crie um while loop que imprima números de 0 a 5\n"
   ]
  },
  {
   "cell_type": "code",
   "execution_count": 3,
   "metadata": {},
   "outputs": [
    {
     "data": {
      "text/plain": [
       "[0, 1, 2, 3, 4, 5, 6, 7, 8, 9]"
      ]
     },
     "execution_count": 3,
     "metadata": {},
     "output_type": "execute_result"
    }
   ],
   "source": [
    "lista = list(range(0,10))\n",
    "lista"
   ]
  },
  {
   "cell_type": "code",
   "execution_count": 5,
   "metadata": {},
   "outputs": [
    {
     "name": "stdout",
     "output_type": "stream",
     "text": [
      "0\n",
      "1\n",
      "2\n",
      "3\n",
      "4\n",
      "5\n"
     ]
    }
   ],
   "source": [
    "n = 0\n",
    "while lista[n] < 6:\n",
    "    print(lista[n])\n",
    "    n += 1"
   ]
  },
  {
   "attachments": {},
   "cell_type": "markdown",
   "metadata": {},
   "source": [
    "- Crie um while loop com else"
   ]
  },
  {
   "cell_type": "code",
   "execution_count": 12,
   "metadata": {},
   "outputs": [
    {
     "name": "stdout",
     "output_type": "stream",
     "text": [
      "0\n",
      "1\n",
      "2\n",
      "3\n",
      "4\n",
      "5\n",
      "6\n",
      "Fim de jogo\n"
     ]
    }
   ],
   "source": [
    "n = 0\n",
    "while lista[n] < 7:\n",
    "    print(lista[n])\n",
    "    n += 1\n",
    "else:\n",
    "    print('Fim de jogo')"
   ]
  },
  {
   "cell_type": "code",
   "execution_count": 15,
   "metadata": {},
   "outputs": [
    {
     "name": "stdout",
     "output_type": "stream",
     "text": [
      "Você está no estágio mais facil de todos.\n",
      "Você passou do estágio:  2\n",
      "Você passou do estágio:  3\n"
     ]
    }
   ],
   "source": [
    "estagio_atual = 0\n",
    "estagio_final = 10\n",
    "\n",
    "while estagio_atual <= estagio_final:\n",
    "    estagio_atual += 1\n",
    "    if estagio_atual == 1:\n",
    "        continue\n",
    "    elif estagio_atual == 2:\n",
    "        print('Você está no estágio mais facil de todos.')\n",
    "    elif estagio_atual == 3:\n",
    "        pass\n",
    "    elif estagio_atual == 4:\n",
    "        break\n",
    "    print('Você passou do estágio: ', estagio_atual)\n",
    "\n",
    "else:\n",
    "    print('Fim do jogo')\n"
   ]
  },
  {
   "cell_type": "code",
   "execution_count": null,
   "metadata": {},
   "outputs": [],
   "source": []
  }
 ],
 "metadata": {
  "kernelspec": {
   "display_name": "Python 3",
   "language": "python",
   "name": "python3"
  },
  "language_info": {
   "codemirror_mode": {
    "name": "ipython",
    "version": 3
   },
   "file_extension": ".py",
   "mimetype": "text/x-python",
   "name": "python",
   "nbconvert_exporter": "python",
   "pygments_lexer": "ipython3",
   "version": "3.11.2"
  },
  "orig_nbformat": 4,
  "vscode": {
   "interpreter": {
    "hash": "916dbcbb3f70747c44a77c7bcd40155683ae19c65e1c03b4aa3499c5328201f1"
   }
  }
 },
 "nbformat": 4,
 "nbformat_minor": 2
}
