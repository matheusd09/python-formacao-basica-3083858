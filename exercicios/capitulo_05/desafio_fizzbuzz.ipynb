{
 "cells": [
  {
   "attachments": {},
   "cell_type": "markdown",
   "metadata": {},
   "source": [
    "- Crie um objeto iterável com 100 dados do tipo numérico e imprima na tela a palavra 'Fizz' no lugar dos números divisíveis por 3, 'Buzz' no lugar dos números divisíveis por 05 e 'FizBuzz' no lugar dos números divisíveis por 3 e 5. Caso o número não atenda a nenhuma dessas condições, imprima o próprio número."
   ]
  },
  {
   "cell_type": "code",
   "execution_count": null,
   "metadata": {},
   "outputs": [],
   "source": [
    "lista = list(range(100))\n",
    "for n in lista:\n",
    "    if n % 3 == 0 and n % 5 == 0:\n",
    "        lista[n] = 'FizzBuzz'\n",
    "    elif n % 3 == 0:\n",
    "        lista[n] = 'Fizz'\n",
    "    elif n % 5 == 0:\n",
    "        lista[n] = 'Buzz'\n",
    "\n",
    "\n",
    "print(lista)"
   ]
  },
  {
   "cell_type": "code",
   "execution_count": 1,
   "metadata": {},
   "outputs": [],
   "source": [
    "lista2 = list(range(100))"
   ]
  },
  {
   "cell_type": "code",
   "execution_count": 3,
   "metadata": {},
   "outputs": [
    {
     "ename": "SyntaxError",
     "evalue": "invalid syntax. Maybe you meant '==' or ':=' instead of '='? (2246333347.py, line 1)",
     "output_type": "error",
     "traceback": [
      "\u001b[0;36m  Cell \u001b[0;32mIn[3], line 1\u001b[0;36m\u001b[0m\n\u001b[0;31m    _ = [n = 'FizzBuzz' if (lista2[n] % 3 == 0 and lista2[n] % 5 == 0) else lista2[n] = 'Fizz' if (nlista2[n] % 3 == 0) else lista2[n] = 'Buzz' if (lista2[n] % 5 == 0) else lista2[n] = lista2 for n in lista2]\u001b[0m\n\u001b[0m         ^\u001b[0m\n\u001b[0;31mSyntaxError\u001b[0m\u001b[0;31m:\u001b[0m invalid syntax. Maybe you meant '==' or ':=' instead of '='?\n"
     ]
    }
   ],
   "source": [
    "_ = [n = 'FizzBuzz' if (lista2[n] % 3 == 0 and lista2[n] % 5 == 0) else lista2[n] = 'Fizz' if (nlista2[n] % 3 == 0) else lista2[n] = 'Buzz' if (lista2[n] % 5 == 0) else lista2[n] = lista2 for n in lista2]"
   ]
  },
  {
   "cell_type": "code",
   "execution_count": 4,
   "metadata": {},
   "outputs": [],
   "source": [
    "teste = list(range(10))"
   ]
  },
  {
   "cell_type": "code",
   "execution_count": 9,
   "metadata": {},
   "outputs": [
    {
     "ename": "SyntaxError",
     "evalue": "cannot assign to subscript here. Maybe you meant '==' instead of '='? (2438475644.py, line 1)",
     "output_type": "error",
     "traceback": [
      "\u001b[0;36m  Cell \u001b[0;32mIn[9], line 1\u001b[0;36m\u001b[0m\n\u001b[0;31m    _ = [ teste[n] = 'FizzBuzz' if (n % 3 == 0) else teste[n] = n for n in teste ]\u001b[0m\n\u001b[0m          ^\u001b[0m\n\u001b[0;31mSyntaxError\u001b[0m\u001b[0;31m:\u001b[0m cannot assign to subscript here. Maybe you meant '==' instead of '='?\n"
     ]
    }
   ],
   "source": [
    "_ = [ teste[n] = 'FizzBuzz' if (n % 3 == 0) else teste[n] = n for n in teste ]"
   ]
  },
  {
   "cell_type": "code",
   "execution_count": null,
   "metadata": {},
   "outputs": [],
   "source": []
  }
 ],
 "metadata": {
  "kernelspec": {
   "display_name": "Python 3",
   "language": "python",
   "name": "python3"
  },
  "language_info": {
   "codemirror_mode": {
    "name": "ipython",
    "version": 3
   },
   "file_extension": ".py",
   "mimetype": "text/x-python",
   "name": "python",
   "nbconvert_exporter": "python",
   "pygments_lexer": "ipython3",
   "version": "3.11.2"
  },
  "orig_nbformat": 4,
  "vscode": {
   "interpreter": {
    "hash": "916dbcbb3f70747c44a77c7bcd40155683ae19c65e1c03b4aa3499c5328201f1"
   }
  }
 },
 "nbformat": 4,
 "nbformat_minor": 2
}
