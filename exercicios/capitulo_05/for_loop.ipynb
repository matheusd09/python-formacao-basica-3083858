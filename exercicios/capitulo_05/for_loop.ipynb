{
 "cells": [
  {
   "attachments": {},
   "cell_type": "markdown",
   "metadata": {},
   "source": [
    "- Crie uma lista\n"
   ]
  },
  {
   "cell_type": "code",
   "execution_count": 1,
   "metadata": {},
   "outputs": [],
   "source": [
    "lista = [3, 9, 35, 34]"
   ]
  },
  {
   "cell_type": "code",
   "execution_count": null,
   "metadata": {},
   "outputs": [],
   "source": [
    "for n in lista:\n",
    "    pass #Utilizado quando querendo montar a estrutura, porém ainda não tem as condições definidas."
   ]
  },
  {
   "attachments": {},
   "cell_type": "markdown",
   "metadata": {},
   "source": [
    "- Crie um for loop para imprimir na tela todos os elementos da lista\n"
   ]
  },
  {
   "cell_type": "code",
   "execution_count": 3,
   "metadata": {},
   "outputs": [
    {
     "name": "stdout",
     "output_type": "stream",
     "text": [
      "3\n",
      "9\n",
      "35\n",
      "34\n"
     ]
    }
   ],
   "source": [
    "for n in lista:\n",
    "    print(n)"
   ]
  },
  {
   "attachments": {},
   "cell_type": "markdown",
   "metadata": {},
   "source": [
    "- Crie um for loop usando o recurso \"continue\"\n"
   ]
  },
  {
   "cell_type": "code",
   "execution_count": 5,
   "metadata": {},
   "outputs": [
    {
     "name": "stdout",
     "output_type": "stream",
     "text": [
      "estamos no else\n",
      "35\n",
      "esse número é par\n",
      "34\n"
     ]
    }
   ],
   "source": [
    "for n in lista:\n",
    "    if n % 3 == 0:\n",
    "        continue #Volta para o loop(for), nada abaixo é executado.\n",
    "    elif n % 2 == 0:\n",
    "        print('esse número é par')\n",
    "    else:\n",
    "        print('estamos no else')\n",
    "    print(n)"
   ]
  },
  {
   "attachments": {},
   "cell_type": "markdown",
   "metadata": {},
   "source": [
    "- Crie um for loop usando o recurso \"break\"\n"
   ]
  },
  {
   "cell_type": "code",
   "execution_count": 6,
   "metadata": {},
   "outputs": [
    {
     "name": "stdout",
     "output_type": "stream",
     "text": [
      "Esse número é divisivel por 3:  3\n"
     ]
    }
   ],
   "source": [
    "for n in lista:\n",
    "    if n % 3 == 0:\n",
    "        print('Esse número é divisivel por 3: ', n) \n",
    "        break #Interrompe o loop. E sai da estrutura.\n",
    "    elif n % 2 == 0:\n",
    "        print('esse número é par: ', n)\n",
    "    else:\n",
    "        print('estamos no else ', n)\n",
    "    print(n)"
   ]
  },
  {
   "attachments": {},
   "cell_type": "markdown",
   "metadata": {},
   "source": [
    "- Crie um for loop usando o \"else\"\n"
   ]
  },
  {
   "cell_type": "code",
   "execution_count": 7,
   "metadata": {},
   "outputs": [
    {
     "name": "stdout",
     "output_type": "stream",
     "text": [
      "Esse número é divisivel por 3:  3\n",
      "3\n",
      "Esse número é divisivel por 3:  9\n",
      "9\n",
      "estamos no else  35\n",
      "35\n",
      "esse número é par:  34\n",
      "34\n",
      "Aqui acaba o loop\n"
     ]
    }
   ],
   "source": [
    "#Serve para executar um trecho de código, após a execução do loop.\n",
    "\n",
    "for n in lista:\n",
    "    if n % 3 == 0:\n",
    "        print('Esse número é divisivel por 3: ', n) \n",
    "    elif n % 2 == 0:\n",
    "        print('esse número é par: ', n)\n",
    "    else:\n",
    "        print('estamos no else ', n)\n",
    "    print(n)\n",
    "else:\n",
    "    print('Aqui acaba o loop')"
   ]
  }
 ],
 "metadata": {
  "kernelspec": {
   "display_name": "Python 3",
   "language": "python",
   "name": "python3"
  },
  "language_info": {
   "codemirror_mode": {
    "name": "ipython",
    "version": 3
   },
   "file_extension": ".py",
   "mimetype": "text/x-python",
   "name": "python",
   "nbconvert_exporter": "python",
   "pygments_lexer": "ipython3",
   "version": "3.11.2"
  },
  "orig_nbformat": 4,
  "vscode": {
   "interpreter": {
    "hash": "916dbcbb3f70747c44a77c7bcd40155683ae19c65e1c03b4aa3499c5328201f1"
   }
  }
 },
 "nbformat": 4,
 "nbformat_minor": 2
}
