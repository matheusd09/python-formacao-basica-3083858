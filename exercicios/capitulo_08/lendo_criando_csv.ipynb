{
 "cells": [
  {
   "attachments": {},
   "cell_type": "markdown",
   "metadata": {},
   "source": [
    "- Importe a biblioteca csv"
   ]
  },
  {
   "cell_type": "code",
   "execution_count": 1,
   "metadata": {},
   "outputs": [],
   "source": [
    "import csv"
   ]
  },
  {
   "attachments": {},
   "cell_type": "markdown",
   "metadata": {},
   "source": [
    "- Abra o arquivo \"dados/populacao_mundial.csv\" e imprima-o na tela\n"
   ]
  },
  {
   "cell_type": "code",
   "execution_count": null,
   "metadata": {},
   "outputs": [],
   "source": [
    "with open('../dados/populacao_mundial.csv', 'r') as arquivo_csv:\n",
    "    dados = csv.reader(arquivo_csv)\n",
    "    for linha in dados:\n",
    "        print(linha)"
   ]
  },
  {
   "cell_type": "code",
   "execution_count": null,
   "metadata": {},
   "outputs": [],
   "source": []
  },
  {
   "attachments": {},
   "cell_type": "markdown",
   "metadata": {},
   "source": [
    "- Repita o exercício anterior informando o delimitador '\\t'\n"
   ]
  },
  {
   "cell_type": "code",
   "execution_count": null,
   "metadata": {},
   "outputs": [],
   "source": [
    "with open('../dados/populacao_mundial.csv', 'r') as arquivo_csv:\n",
    "    dados = list(csv.reader(arquivo_csv, delimiter='\\t')) #Delimitador no parametro do reader\n",
    "    for linha in dados[:5]: #Com o slice o for passará apenas pelas 5 primeiras linhas\n",
    "        print(linha)"
   ]
  },
  {
   "attachments": {},
   "cell_type": "markdown",
   "metadata": {},
   "source": [
    "- Crie um novo arquivo csv usando as listas abaixo:\n",
    "\n",
    "cabecalho = ['pais', 'ano', '%_crescimento_populacional']\n",
    "\n",
    "populacao_pais = ['Chile', 'Chile', 'Chile', 'Chile', 'Chile']\n",
    "populacao_ano = ['1955', '1960', '1965', '1970', '1975']\n",
    "populacao_crescimento_populacional = ['1.3', '1.7', '2.05', '2.33', '2.58']"
   ]
  },
  {
   "cell_type": "code",
   "execution_count": 2,
   "metadata": {},
   "outputs": [],
   "source": [
    "cabecalho = ['pais', 'ano', '%_crescimento_populacional']\n",
    "populacao_pais = ['Chile', 'Chile', 'Chile', 'Chile', 'Chile']\n",
    "populacao_ano = ['1955', '1960', '1965', '1970', '1975']\n",
    "populacao_crescimento_populacional = ['1.3', '1.7', '2.05', '2.33', '2.58']"
   ]
  },
  {
   "cell_type": "code",
   "execution_count": null,
   "metadata": {},
   "outputs": [],
   "source": [
    "linhas = []\n",
    "\n",
    "for linha in zip(populacao_pais, populacao_ano, populacao_crescimento_populacional):    #A partir da função zip é possivel criar um iterador a partir de dois ou mais objetos iteráveis\n",
    "    linhas.append(linhas)\n",
    "\n",
    "print(linhas)\n"
   ]
  },
  {
   "cell_type": "code",
   "execution_count": null,
   "metadata": {},
   "outputs": [],
   "source": [
    "with open('../dados/amostra.csv', 'w') as amostra:\n",
    "    escrita = csv.writer(amostra)\n",
    "    escrita.writerow(cabecalho)\n",
    "    escrita.writerows(linhas)"
   ]
  }
 ],
 "metadata": {
  "kernelspec": {
   "display_name": "Python 3",
   "language": "python",
   "name": "python3"
  },
  "language_info": {
   "codemirror_mode": {
    "name": "ipython",
    "version": 3
   },
   "file_extension": ".py",
   "mimetype": "text/x-python",
   "name": "python",
   "nbconvert_exporter": "python",
   "pygments_lexer": "ipython3",
   "version": "3.11.2"
  },
  "orig_nbformat": 4,
  "vscode": {
   "interpreter": {
    "hash": "916dbcbb3f70747c44a77c7bcd40155683ae19c65e1c03b4aa3499c5328201f1"
   }
  }
 },
 "nbformat": 4,
 "nbformat_minor": 2
}
